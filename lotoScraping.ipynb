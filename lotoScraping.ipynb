{
 "cells": [
  {
   "cell_type": "markdown",
   "metadata": {},
   "source": [
    "<h1>はじめに</h1>"
   ]
  },
  {
   "cell_type": "markdown",
   "metadata": {},
   "source": [
    "番外編１では、loto6の販売実績額のデータをBeautifulSoupを用いたウェブスクレイピングにより取得する手順を整理していきます。<br>\n",
    "手順は以下になります。\n",
    "1. requestsライブラリを開いてWebサイトから用いてhtmlを取得\n",
    "2. BeautifulSoupライブラリを用いてhtmlから必要な部分を抽出\n",
    "3. Pandasライブラリを用いてデータフレーム化・CSV保存<br>"
   ]
  },
  {
   "cell_type": "markdown",
   "metadata": {},
   "source": [
    "<h1>requestsライブラリを開いてWebサイトから用いてhtmlを取得</h1>"
   ]
  },
  {
   "cell_type": "markdown",
   "metadata": {},
   "source": [
    "まずは必要なライブラリをインポートします。"
   ]
  },
  {
   "cell_type": "code",
   "execution_count": 1,
   "metadata": {
    "collapsed": true
   },
   "outputs": [],
   "source": [
    "import requests"
   ]
  },
  {
   "cell_type": "markdown",
   "metadata": {},
   "source": [
    "次にurlを決めます。今回は、販売実績等のLoto6のデータを提供されているサイト様のURLを指定します。<br>\n",
    "http://sougaku.com/loto6/data/detail/"
   ]
  },
  {
   "cell_type": "code",
   "execution_count": 2,
   "metadata": {
    "collapsed": true
   },
   "outputs": [],
   "source": [
    "url = \"http://sougaku.com/loto6/data/detail/\""
   ]
  },
  {
   "cell_type": "markdown",
   "metadata": {},
   "source": [
    "次にセッションを取得しhtmlを取得します。セッションはとは何か？については以下のサイト様等が参考になると思います。<br>\n",
    "http://qiita.com/hththt/items/07136ad74127999df271"
   ]
  },
  {
   "cell_type": "code",
   "execution_count": 3,
   "metadata": {},
   "outputs": [
    {
     "name": "stdout",
     "output_type": "stream",
     "text": [
      "<?xml version=\"1.0\" encoding=\"UTF-8\"?>\r\n",
      "<!DOCTYPE html PUBLIC \"-//W3C//DTD XHTML 1.0 Transitional//EN\" \"http://www.w3.org/TR/xhtml1/DTD/xhtml1-transitional.dtd\">\r\n",
      "<html xmlns=\"http://www.w3.org/1999/xhtml\" lang=\"ja\" xml:lang=\"ja\">\r\n",
      "<head>\r\n",
      "<meta http-equiv=\"Content-Type\" content=\"text/html; charset=UTF-8\" />\r\n",
      "<meta http-equiv=\"Content-Script-Type\" content=\"text/javascript\" />\r\n",
      "<meta http-equiv=\"Content-Style-Type\" content=\"text/css\" />\r\n",
      "<meta name=\"content-language\" content=\"ja\" />\r\n",
      "<meta name=\"robots\" content=\"all\" />\r\n",
      "<meta name=\"author\" content=\"ロト６生活\" />\r\n",
      "<meta name=\"copyright\" content=\"Copyright (c) VIAS. All Rights Reserved.\">\r\n",
      "<meta name=\"Keywords\" content=\"ロト６,LOTO6,宝くじ,当選番号,ギャンブル,予想ソフト,分析,予想,リンク\">\r\n",
      "<meta name=\"Description\" content=\"ロト６データ分析サービスは、ロト６生活が提供する分析に必要なデータを載せています。\">\r\n",
      "<title>ロト６第1196回抽選結果詳細データ</title>\r\n",
      "<link rel=\"shortcut icon\" href=\"/loto6/img/favicon.ico\" />\r\n",
      "<link rel=\"stylesheet\" href=\"/loto6/css/style.css\" type=\"text/css\" media=\"all\" />\r\n",
      "<link rel=\"alternate\" type\n"
     ]
    }
   ],
   "source": [
    "session = requests.session()\n",
    "res = session.get(url)\n",
    "res.encoding = 'utf-8'\n",
    "#データ確認\n",
    "print(res.text[:1000])"
   ]
  },
  {
   "cell_type": "markdown",
   "metadata": {},
   "source": [
    "requestsを使って、htmlレスポンスを取得することができました。"
   ]
  },
  {
   "cell_type": "markdown",
   "metadata": {},
   "source": [
    "<h1>BeautifulSoupライブラリを用いてhtmlから必要な部分を抽出</h1>"
   ]
  },
  {
   "cell_type": "markdown",
   "metadata": {},
   "source": [
    "まずは必要なライブラリをインポートします。"
   ]
  },
  {
   "cell_type": "code",
   "execution_count": 4,
   "metadata": {
    "collapsed": true
   },
   "outputs": [],
   "source": [
    "from bs4 import BeautifulSoup"
   ]
  },
  {
   "cell_type": "markdown",
   "metadata": {},
   "source": [
    "BeautifulSoupに先ほどのhtmlを与えます。"
   ]
  },
  {
   "cell_type": "code",
   "execution_count": 5,
   "metadata": {},
   "outputs": [
    {
     "name": "stdout",
     "output_type": "stream",
     "text": [
      "\n",
      "\n",
      "\n",
      "\n",
      "\n",
      "\n",
      "\n",
      "\n",
      "\n",
      "\n",
      "\n",
      "\n",
      "\n",
      "ロト６第1196回抽選結果詳細データ\n",
      "\n",
      "\n",
      "\n",
      "\n",
      "\n",
      "\n",
      "\n",
      "  (function(i,s,o,g,r,a,m){i['GoogleAnalyticsObject']=r;i[r]=\n"
     ]
    }
   ],
   "source": [
    "soup = BeautifulSoup(res.text, \"html.parser\")\n",
    "#データ確認\n",
    "print(soup.text[:100])"
   ]
  },
  {
   "cell_type": "markdown",
   "metadata": {},
   "source": [
    "htmlとして理解しています。"
   ]
  },
  {
   "cell_type": "markdown",
   "metadata": {},
   "source": [
    "次に実際にhtmlファイルを確認して該当箇所を抽出します。<br>\n",
    "今回のケースでは「sokuho_tb1」というクラスに入っているので取得します。"
   ]
  },
  {
   "cell_type": "code",
   "execution_count": 6,
   "metadata": {},
   "outputs": [
    {
     "name": "stdout",
     "output_type": "stream",
     "text": [
      "<table border=\"0\" cellpadding=\"0\" cellspacing=\"0\" class=\"sokuho_tb1\">\n",
      "<tbody>\n",
      "<tr>\n",
      "<th class=\"tw1\">\n",
      "\t\t\t\t抽選回\n",
      "\t\t\t</th>\n",
      "<th class=\"tw2\">\n",
      "\t\t\t\t抽選日\n",
      "\t\t\t</th>\n",
      "<th class=\"tw2\">\n",
      "\t\t\t\t販売実績額\n",
      "\t\t\t</th>\n",
      "<th class=\"tw3\">\n",
      "\t\t\t\tセット球\n",
      "\t\t\t</th>\n",
      "</tr>\n",
      "<tr>\n",
      "<td>\n",
      "\t\t\t\t第1196回\n",
      "\t\t\t</td>\n",
      "<td>\n",
      "\t\t\t\t2017年7月31日(月)\n",
      "\t\t\t</td>\n",
      "<td>\n",
      "\t\t\t\t1,399,975,000円\n",
      "\t\t\t</td>\n",
      "<td>\n",
      "\t\t\t\tF\n",
      "\t\t\t</td>\n",
      "</tr>\n",
      "</tbody>\n",
      "</table>\n"
     ]
    }
   ],
   "source": [
    "soup = soup.find(class_='sokuho_tb1')\n",
    "#データ確認\n",
    "print(soup)"
   ]
  },
  {
   "cell_type": "markdown",
   "metadata": {},
   "source": [
    "販売実績額がありましたね。さらに絞り込んで値を抽出しましょう。"
   ]
  },
  {
   "cell_type": "code",
   "execution_count": 7,
   "metadata": {},
   "outputs": [
    {
     "data": {
      "text/plain": [
       "<td>\n",
       "\t\t\t\t1,399,975,000円\n",
       "\t\t\t</td>"
      ]
     },
     "execution_count": 7,
     "metadata": {},
     "output_type": "execute_result"
    }
   ],
   "source": [
    "#tdの２番めを取得\n",
    "soup.find_all('td')[2]"
   ]
  },
  {
   "cell_type": "code",
   "execution_count": 8,
   "metadata": {},
   "outputs": [
    {
     "data": {
      "text/plain": [
       "13999750"
      ]
     },
     "execution_count": 8,
     "metadata": {},
     "output_type": "execute_result"
    }
   ],
   "source": [
    "#さらに必要な部分だけを取り出してintに変換\n",
    "int(soup.find_all('td')[2].text.replace('\\n', '').replace('\\t', '')[:-3].replace(',', ''))"
   ]
  },
  {
   "cell_type": "markdown",
   "metadata": {},
   "source": [
    "販売実績額が取得できました。"
   ]
  },
  {
   "cell_type": "markdown",
   "metadata": {},
   "source": [
    "<h1>Pandasライブラリを用いてデータフレーム化・CSV保存</h1>"
   ]
  },
  {
   "cell_type": "markdown",
   "metadata": {},
   "source": [
    "まずは必要なライブラリをインポートします。"
   ]
  },
  {
   "cell_type": "code",
   "execution_count": 9,
   "metadata": {
    "collapsed": true
   },
   "outputs": [],
   "source": [
    "import pandas as pd"
   ]
  },
  {
   "cell_type": "markdown",
   "metadata": {},
   "source": [
    "データを格納するためのデータフレームを作成します。"
   ]
  },
  {
   "cell_type": "code",
   "execution_count": 10,
   "metadata": {},
   "outputs": [
    {
     "data": {
      "text/html": [
       "<div>\n",
       "<style>\n",
       "    .dataframe thead tr:only-child th {\n",
       "        text-align: right;\n",
       "    }\n",
       "\n",
       "    .dataframe thead th {\n",
       "        text-align: left;\n",
       "    }\n",
       "\n",
       "    .dataframe tbody tr th {\n",
       "        vertical-align: top;\n",
       "    }\n",
       "</style>\n",
       "<table border=\"1\" class=\"dataframe\">\n",
       "  <thead>\n",
       "    <tr style=\"text-align: right;\">\n",
       "      <th></th>\n",
       "      <th>販売実績額</th>\n",
       "    </tr>\n",
       "  </thead>\n",
       "  <tbody>\n",
       "    <tr>\n",
       "      <th>1</th>\n",
       "      <td>NaN</td>\n",
       "    </tr>\n",
       "    <tr>\n",
       "      <th>2</th>\n",
       "      <td>NaN</td>\n",
       "    </tr>\n",
       "    <tr>\n",
       "      <th>3</th>\n",
       "      <td>NaN</td>\n",
       "    </tr>\n",
       "    <tr>\n",
       "      <th>4</th>\n",
       "      <td>NaN</td>\n",
       "    </tr>\n",
       "    <tr>\n",
       "      <th>5</th>\n",
       "      <td>NaN</td>\n",
       "    </tr>\n",
       "  </tbody>\n",
       "</table>\n",
       "</div>"
      ],
      "text/plain": [
       "  販売実績額\n",
       "1   NaN\n",
       "2   NaN\n",
       "3   NaN\n",
       "4   NaN\n",
       "5   NaN"
      ]
     },
     "execution_count": 10,
     "metadata": {},
     "output_type": "execute_result"
    }
   ],
   "source": [
    "#何回目まで取得するかを指定\n",
    "last = 1196\n",
    "#中身が空のデータフレームを定義\n",
    "result = pd.DataFrame(index=range(1, last+1), columns=['販売実績額'])\n",
    "#データ確認\n",
    "result.head()"
   ]
  },
  {
   "cell_type": "markdown",
   "metadata": {},
   "source": [
    "for文を使って値を埋めていきます。"
   ]
  },
  {
   "cell_type": "code",
   "execution_count": 11,
   "metadata": {},
   "outputs": [
    {
     "data": {
      "text/html": [
       "<div>\n",
       "<style>\n",
       "    .dataframe thead tr:only-child th {\n",
       "        text-align: right;\n",
       "    }\n",
       "\n",
       "    .dataframe thead th {\n",
       "        text-align: left;\n",
       "    }\n",
       "\n",
       "    .dataframe tbody tr th {\n",
       "        vertical-align: top;\n",
       "    }\n",
       "</style>\n",
       "<table border=\"1\" class=\"dataframe\">\n",
       "  <thead>\n",
       "    <tr style=\"text-align: right;\">\n",
       "      <th></th>\n",
       "      <th>販売実績額</th>\n",
       "    </tr>\n",
       "  </thead>\n",
       "  <tbody>\n",
       "    <tr>\n",
       "      <th>1</th>\n",
       "      <td>1183183200</td>\n",
       "    </tr>\n",
       "    <tr>\n",
       "      <th>2</th>\n",
       "      <td>1218391000</td>\n",
       "    </tr>\n",
       "    <tr>\n",
       "      <th>3</th>\n",
       "      <td>1627702400</td>\n",
       "    </tr>\n",
       "    <tr>\n",
       "      <th>4</th>\n",
       "      <td>1483327400</td>\n",
       "    </tr>\n",
       "    <tr>\n",
       "      <th>5</th>\n",
       "      <td>1714530600</td>\n",
       "    </tr>\n",
       "  </tbody>\n",
       "</table>\n",
       "</div>"
      ],
      "text/plain": [
       "        販売実績額\n",
       "1  1183183200\n",
       "2  1218391000\n",
       "3  1627702400\n",
       "4  1483327400\n",
       "5  1714530600"
      ]
     },
     "execution_count": 11,
     "metadata": {},
     "output_type": "execute_result"
    }
   ],
   "source": [
    "#１回毎に販売額を取得して格納\n",
    "for i in result.index:\n",
    "\n",
    "    #対象回\n",
    "    target = i\n",
    "\n",
    "    #URLを指定\n",
    "    if target == last:\n",
    "        url = \"http://sougaku.com/loto6/data/detail/\"\n",
    "    else:\n",
    "        url = \"http://sougaku.com/loto6/data/detail/index\" + str(target) + \".html\"\n",
    "\n",
    "    session = requests.session()\n",
    "    res = session.get(url)\n",
    "\n",
    "    soup = BeautifulSoup(res.text, \"html.parser\")\n",
    "    soup = soup.find(class_='sokuho_tb1')\n",
    "    value = int(soup.find_all('td')[2].text.replace('\\n', '').replace('\\t', '')[:-3].replace(',', ''))\n",
    "    #print(i, value)\n",
    "\n",
    "    #結果を格納\n",
    "    result.loc[i, '販売実績額'] = value\n",
    "\n",
    "#結果確認    \n",
    "result.head()"
   ]
  },
  {
   "cell_type": "markdown",
   "metadata": {},
   "source": [
    "プロットもしておきましょう。"
   ]
  },
  {
   "cell_type": "code",
   "execution_count": 12,
   "metadata": {},
   "outputs": [
    {
     "data": {
      "text/plain": [
       "<matplotlib.axes._subplots.AxesSubplot at 0x7f12aba46fd0>"
      ]
     },
     "execution_count": 12,
     "metadata": {},
     "output_type": "execute_result"
    },
    {
     "data": {
      "image/png": "[encoded data removed]",
      "text/plain": [
       "<matplotlib.figure.Figure at 0x7f12ac019a20>"
      ]
     },
     "metadata": {},
     "output_type": "display_data"
    }
   ],
   "source": [
    "%matplotlib inline\n",
    "result.plot()"
   ]
  },
  {
   "cell_type": "markdown",
   "metadata": {},
   "source": [
    "うまく取れてそうですね。最後に保存をして完成です。"
   ]
  },
  {
   "cell_type": "code",
   "execution_count": 13,
   "metadata": {
    "collapsed": true
   },
   "outputs": [],
   "source": [
    "result.to_csv(\"salesData.csv\")"
   ]
  }
 ],
 "metadata": {
  "kernelspec": {
   "display_name": "Python 3",
   "language": "python",
   "name": "python3"
  },
  "language_info": {
   "codemirror_mode": {
    "name": "ipython",
    "version": 3
   },
   "file_extension": ".py",
   "mimetype": "text/x-python",
   "name": "python",
   "nbconvert_exporter": "python",
   "pygments_lexer": "ipython3",
   "version": "3.6.1"
  }
 },
 "nbformat": 4,
 "nbformat_minor": 2
}
