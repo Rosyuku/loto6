{
 "cells": [
  {
   "cell_type": "markdown",
   "metadata": {},
   "source": [
    "<h1>はじめに</h1>"
   ]
  },
  {
   "cell_type": "markdown",
   "metadata": {},
   "source": [
    "その２では、「loto6に当たりやすい目はあるのか？」について以下の手順で分析・解析していきます。<br>\n",
    "1. 今までに出た目は偏りがあるか？\n",
    "2. 偏りは統計的に妥当か？<br>\n",
    "\n",
    "データの入手方法や環境の設定方法に関してはその１を参照ください。<br>\n",
    "http://own-search-and-study.xyz/2016/08/02/python%E3%81%A7loto6%E3%81%AE%E3%83%87%E3%83%BC%E3%82%BF%E5%88%86%E6%9E%90%E3%82%92%E3%81%97%E3%81%A6%E3%81%BF%E3%81%9F%E3%80%80%EF%BD%9E%E3%81%9D%E3%81%AE%EF%BC%91%EF%BD%9E/"
   ]
  },
  {
   "cell_type": "markdown",
   "metadata": {},
   "source": [
    "<h1>今までに出た目は偏りがあるか？</h1>"
   ]
  },
  {
   "cell_type": "markdown",
   "metadata": {},
   "source": [
    "まず、ロト6の出目を確認し、どれだけ偏りがあるのかを確認しましょう。"
   ]
  },
  {
   "cell_type": "markdown",
   "metadata": {},
   "source": [
    "<h2>出目の確認</h2>"
   ]
  },
  {
   "cell_type": "markdown",
   "metadata": {},
   "source": [
    "早速、出目の偏りを確認していきます。"
   ]
  },
  {
   "cell_type": "code",
   "execution_count": 1,
   "metadata": {
    "collapsed": false
   },
   "outputs": [
    {
     "data": {
      "text/html": [
       "<div>\n",
       "<table border=\"1\" class=\"dataframe\">\n",
       "  <thead>\n",
       "    <tr style=\"text-align: right;\">\n",
       "      <th></th>\n",
       "      <th>本数字1</th>\n",
       "      <th>本数字2</th>\n",
       "      <th>本数字3</th>\n",
       "      <th>本数字4</th>\n",
       "      <th>本数字5</th>\n",
       "      <th>本数字6</th>\n",
       "      <th>ボーナス数字</th>\n",
       "    </tr>\n",
       "  </thead>\n",
       "  <tbody>\n",
       "    <tr>\n",
       "      <th>0</th>\n",
       "      <td>2</td>\n",
       "      <td>8</td>\n",
       "      <td>10</td>\n",
       "      <td>13</td>\n",
       "      <td>27</td>\n",
       "      <td>30</td>\n",
       "      <td>39</td>\n",
       "    </tr>\n",
       "    <tr>\n",
       "      <th>1</th>\n",
       "      <td>1</td>\n",
       "      <td>9</td>\n",
       "      <td>16</td>\n",
       "      <td>20</td>\n",
       "      <td>21</td>\n",
       "      <td>43</td>\n",
       "      <td>5</td>\n",
       "    </tr>\n",
       "    <tr>\n",
       "      <th>2</th>\n",
       "      <td>1</td>\n",
       "      <td>5</td>\n",
       "      <td>15</td>\n",
       "      <td>31</td>\n",
       "      <td>36</td>\n",
       "      <td>38</td>\n",
       "      <td>13</td>\n",
       "    </tr>\n",
       "    <tr>\n",
       "      <th>3</th>\n",
       "      <td>16</td>\n",
       "      <td>18</td>\n",
       "      <td>26</td>\n",
       "      <td>27</td>\n",
       "      <td>34</td>\n",
       "      <td>40</td>\n",
       "      <td>13</td>\n",
       "    </tr>\n",
       "    <tr>\n",
       "      <th>4</th>\n",
       "      <td>9</td>\n",
       "      <td>15</td>\n",
       "      <td>21</td>\n",
       "      <td>23</td>\n",
       "      <td>27</td>\n",
       "      <td>28</td>\n",
       "      <td>43</td>\n",
       "    </tr>\n",
       "  </tbody>\n",
       "</table>\n",
       "</div>"
      ],
      "text/plain": [
       "   本数字1  本数字2  本数字3  本数字4  本数字5  本数字6  ボーナス数字\n",
       "0     2     8    10    13    27    30      39\n",
       "1     1     9    16    20    21    43       5\n",
       "2     1     5    15    31    36    38      13\n",
       "3    16    18    26    27    34    40      13\n",
       "4     9    15    21    23    27    28      43"
      ]
     },
     "execution_count": 1,
     "metadata": {},
     "output_type": "execute_result"
    }
   ],
   "source": [
    "#Pandasを用いてデータを読み込み、データフレームに格納します。\n",
    "import pandas as pd\n",
    "df = pd.read_csv(\"loto6.csv\", encoding=\"cp932\", parse_dates=[1])\n",
    "#抽選番号に係るデータだけを使う\n",
    "df = df.iloc[:, 3:10]\n",
    "#データ確認\n",
    "df.head()"
   ]
  },
  {
   "cell_type": "markdown",
   "metadata": {},
   "source": [
    "ここから、meltとpivot_tableを用いて、数値ごとの出現回数が分かるように整形します。"
   ]
  },
  {
   "cell_type": "code",
   "execution_count": 2,
   "metadata": {
    "collapsed": false
   },
   "outputs": [
    {
     "data": {
      "text/html": [
       "<div>\n",
       "<table border=\"1\" class=\"dataframe\">\n",
       "  <thead>\n",
       "    <tr style=\"text-align: right;\">\n",
       "      <th></th>\n",
       "      <th>variable</th>\n",
       "      <th>value</th>\n",
       "    </tr>\n",
       "  </thead>\n",
       "  <tbody>\n",
       "    <tr>\n",
       "      <th>0</th>\n",
       "      <td>本数字1</td>\n",
       "      <td>2</td>\n",
       "    </tr>\n",
       "    <tr>\n",
       "      <th>1</th>\n",
       "      <td>本数字1</td>\n",
       "      <td>1</td>\n",
       "    </tr>\n",
       "    <tr>\n",
       "      <th>2</th>\n",
       "      <td>本数字1</td>\n",
       "      <td>1</td>\n",
       "    </tr>\n",
       "    <tr>\n",
       "      <th>3</th>\n",
       "      <td>本数字1</td>\n",
       "      <td>16</td>\n",
       "    </tr>\n",
       "    <tr>\n",
       "      <th>4</th>\n",
       "      <td>本数字1</td>\n",
       "      <td>9</td>\n",
       "    </tr>\n",
       "  </tbody>\n",
       "</table>\n",
       "</div>"
      ],
      "text/plain": [
       "  variable  value\n",
       "0     本数字1      2\n",
       "1     本数字1      1\n",
       "2     本数字1      1\n",
       "3     本数字1     16\n",
       "4     本数字1      9"
      ]
     },
     "execution_count": 2,
     "metadata": {},
     "output_type": "execute_result"
    }
   ],
   "source": [
    "#まずはpandasのmeltを用いて数値を1列の項目に変換\n",
    "df = pd.melt(df)\n",
    "#データ確認\n",
    "df.head()"
   ]
  },
  {
   "cell_type": "code",
   "execution_count": 3,
   "metadata": {
    "collapsed": false
   },
   "outputs": [
    {
     "data": {
      "text/html": [
       "<div>\n",
       "<table border=\"1\" class=\"dataframe\">\n",
       "  <thead>\n",
       "    <tr style=\"text-align: right;\">\n",
       "      <th></th>\n",
       "      <th>frequency</th>\n",
       "    </tr>\n",
       "    <tr>\n",
       "      <th>value</th>\n",
       "      <th></th>\n",
       "    </tr>\n",
       "  </thead>\n",
       "  <tbody>\n",
       "    <tr>\n",
       "      <th>1</th>\n",
       "      <td>172</td>\n",
       "    </tr>\n",
       "    <tr>\n",
       "      <th>2</th>\n",
       "      <td>190</td>\n",
       "    </tr>\n",
       "    <tr>\n",
       "      <th>3</th>\n",
       "      <td>186</td>\n",
       "    </tr>\n",
       "    <tr>\n",
       "      <th>4</th>\n",
       "      <td>195</td>\n",
       "    </tr>\n",
       "    <tr>\n",
       "      <th>5</th>\n",
       "      <td>187</td>\n",
       "    </tr>\n",
       "  </tbody>\n",
       "</table>\n",
       "</div>"
      ],
      "text/plain": [
       "       frequency\n",
       "value           \n",
       "1            172\n",
       "2            190\n",
       "3            186\n",
       "4            195\n",
       "5            187"
      ]
     },
     "execution_count": 3,
     "metadata": {},
     "output_type": "execute_result"
    }
   ],
   "source": [
    "#次にpivot-tableを用いて数値ごとの抽選回数を算出\n",
    "df = pd.pivot_table(df, index='value', aggfunc='count')\n",
    "df.columns = ['frequency']\n",
    "#データ確認\n",
    "df.head()"
   ]
  },
  {
   "cell_type": "markdown",
   "metadata": {},
   "source": [
    "回数が分かったので引き続き可視化してみましょう。"
   ]
  },
  {
   "cell_type": "code",
   "execution_count": 4,
   "metadata": {
    "collapsed": false
   },
   "outputs": [
    {
     "data": {
      "text/plain": [
       "<matplotlib.axes._subplots.AxesSubplot at 0x1a09ebb3550>"
      ]
     },
     "execution_count": 4,
     "metadata": {},
     "output_type": "execute_result"
    },
    {
     "data": {
      "image/png": "[encoded data removed]",
      "text/plain": [
       "<matplotlib.figure.Figure at 0x1a0a1969630>"
      ]
     },
     "metadata": {},
     "output_type": "display_data"
    }
   ],
   "source": [
    "#棒グラフで可視化\n",
    "%matplotlib inline\n",
    "df.plot.bar(figsize=(8, 6))"
   ]
  },
  {
   "cell_type": "markdown",
   "metadata": {},
   "source": [
    "見えにくいので並び替えを行い、加えてもう少しy軸の範囲を絞ります。"
   ]
  },
  {
   "cell_type": "code",
   "execution_count": 5,
   "metadata": {
    "collapsed": false
   },
   "outputs": [
    {
     "data": {
      "text/plain": [
       "<matplotlib.axes._subplots.AxesSubplot at 0x1a09eb8e390>"
      ]
     },
     "execution_count": 5,
     "metadata": {},
     "output_type": "execute_result"
    },
    {
     "data": {
      "image/png": "[encoded data removed]",
      "text/plain": [
       "<matplotlib.figure.Figure at 0x1a09ebc2710>"
      ]
     },
     "metadata": {},
     "output_type": "display_data"
    }
   ],
   "source": [
    "df.sort_values('frequency', ascending=False).plot.bar(ylim=[150, 230], figsize=(8, 6))"
   ]
  },
  {
   "cell_type": "markdown",
   "metadata": {},
   "source": [
    "グラフを見たところ、よく出ている数字（6や27）は、220回程度出ているのに対し、あまり出ていない数字（1や7や9）は170回程度であり、そこそこ偏りが発生しているように見えますね。"
   ]
  },
  {
   "cell_type": "markdown",
   "metadata": {},
   "source": [
    "<h2>偏りの評価</h2>"
   ]
  },
  {
   "cell_type": "markdown",
   "metadata": {},
   "source": [
    "次に、1～43までの数値のことは一旦忘れ、この偏り自体を確認・評価していきます。こういう場合、横軸をfrequencyとしてヒストグラムをプロットしてみると分かりやすいです。"
   ]
  },
  {
   "cell_type": "code",
   "execution_count": 6,
   "metadata": {
    "collapsed": false
   },
   "outputs": [
    {
     "data": {
      "text/plain": [
       "<matplotlib.axes._subplots.AxesSubplot at 0x1a0a21c9f98>"
      ]
     },
     "execution_count": 6,
     "metadata": {},
     "output_type": "execute_result"
    },
    {
     "data": {
      "image/png": "[encoded data removed]",
      "text/plain": [
       "<matplotlib.figure.Figure at 0x1a09eb3ab70>"
      ]
     },
     "metadata": {},
     "output_type": "display_data"
    }
   ],
   "source": [
    "#ヒストグラムをプロット\n",
    "df.plot.hist(bins=7)"
   ]
  },
  {
   "cell_type": "markdown",
   "metadata": {},
   "source": [
    "どうやら、190～200回を分布のピークとした形状のようです。おおよそ正規分布的と仮定して、分布の平均と標準偏差を計算してみましょう。"
   ]
  },
  {
   "cell_type": "code",
   "execution_count": 7,
   "metadata": {
    "collapsed": false
   },
   "outputs": [
    {
     "name": "stdout",
     "output_type": "stream",
     "text": [
      "平均：193.884\n",
      "標準偏差：11.365\n"
     ]
    }
   ],
   "source": [
    "#平均と標準偏差を計算\n",
    "print(\"平均：\" + \"{0:.3f}\".format(df.mean().values[0]))\n",
    "print(\"標準偏差：\" + \"{0:.3f}\".format(df.std().values[0]))"
   ]
  },
  {
   "cell_type": "markdown",
   "metadata": {},
   "source": [
    "上記の数字がこの分布の偏りの指標となります。"
   ]
  },
  {
   "cell_type": "markdown",
   "metadata": {},
   "source": [
    "<h2>偏りの時系列的変化</h2>"
   ]
  },
  {
   "cell_type": "markdown",
   "metadata": {},
   "source": [
    "次に、この偏りの指標（平均及び標準偏差）がloto6の歴史の中でどう評価してきたかを算出してみましょう。"
   ]
  },
  {
   "cell_type": "markdown",
   "metadata": {},
   "source": [
    "まず、loto6のデータフレームを受け取り、平均と標準偏差を返すファンクションを作成します。"
   ]
  },
  {
   "cell_type": "code",
   "execution_count": 8,
   "metadata": {
    "collapsed": true
   },
   "outputs": [],
   "source": [
    "#loto6のデータフレームを受け取り、平均と標準偏差を返すファンクション\n",
    "#dfがデータフレーム、iは開催回数を表す。\n",
    "def getdistInfo(df, i):\n",
    "    \n",
    "    #指定した開催日までのデータを抽出\n",
    "    df = df.ix[:i]\n",
    "    \n",
    "    #andasのmeltを用いて数値を1列の項目に変換\n",
    "    df = pd.melt(df)\n",
    "    \n",
    "    #pivot-tableを用いて数値ごとの抽選回数を算出\n",
    "    df = pd.pivot_table(df, index='value', aggfunc='count')\n",
    "    df.columns = ['frequency']\n",
    "    \n",
    "    #分布の平均と標準偏差を返す\n",
    "    return df.mean().values[0], df.std().values[0]"
   ]
  },
  {
   "cell_type": "markdown",
   "metadata": {},
   "source": [
    "このファンクションに渡すiを増やしながらreturnを受け取ることで、偏りの時系列変化を算出することができます。"
   ]
  },
  {
   "cell_type": "code",
   "execution_count": 9,
   "metadata": {
    "collapsed": false
   },
   "outputs": [],
   "source": [
    "#データフレームを読み直す\n",
    "tdf = pd.read_csv(\"loto6.csv\", encoding=\"cp932\", parse_dates=[1])\n",
    "df = tdf.iloc[:, 3:10]\n",
    "\n",
    "result = []\n",
    "for i in df.index:\n",
    "    result.append(getdistInfo(df, i))\n",
    "    \n",
    "result = pd.DataFrame(result, columns=['mean', 'std'], index=tdf['抽せん回'])\n",
    "result.index.name = 'times'"
   ]
  },
  {
   "cell_type": "markdown",
   "metadata": {},
   "source": [
    "可視化してみましょう。"
   ]
  },
  {
   "cell_type": "code",
   "execution_count": 10,
   "metadata": {
    "collapsed": false
   },
   "outputs": [
    {
     "data": {
      "text/plain": [
       "array([<matplotlib.axes._subplots.AxesSubplot object at 0x000001A0A2234DD8>,\n",
       "       <matplotlib.axes._subplots.AxesSubplot object at 0x000001A0A24624A8>], dtype=object)"
      ]
     },
     "execution_count": 10,
     "metadata": {},
     "output_type": "execute_result"
    },
    {
     "data": {
      "image/png": "[encoded data removed]",
      "text/plain": [
       "<matplotlib.figure.Figure at 0x1a0a22c60b8>"
      ]
     },
     "metadata": {},
     "output_type": "display_data"
    }
   ],
   "source": [
    "result.plot(subplots=True, figsize=(6, 8))"
   ]
  },
  {
   "cell_type": "markdown",
   "metadata": {},
   "source": [
    "抽選回数で規格化するとこんな感じ。"
   ]
  },
  {
   "cell_type": "code",
   "execution_count": 11,
   "metadata": {
    "collapsed": false
   },
   "outputs": [
    {
     "data": {
      "text/plain": [
       "array([<matplotlib.axes._subplots.AxesSubplot object at 0x000001A0A246E9B0>,\n",
       "       <matplotlib.axes._subplots.AxesSubplot object at 0x000001A0A25B30F0>], dtype=object)"
      ]
     },
     "execution_count": 11,
     "metadata": {},
     "output_type": "execute_result"
    },
    {
     "data": {
      "image/png": "[encoded data removed]",
      "text/plain": [
       "<matplotlib.figure.Figure at 0x1a0a2482e48>"
      ]
     },
     "metadata": {},
     "output_type": "display_data"
    }
   ],
   "source": [
    "(result.T / result.index.values).T.plot(subplots=True, figsize=(6, 8))"
   ]
  },
  {
   "cell_type": "markdown",
   "metadata": {},
   "source": [
    "平均についてはほとんど変化がなく、標準偏差はゆっくりと減っていくという結果のようです。"
   ]
  },
  {
   "cell_type": "markdown",
   "metadata": {},
   "source": [
    "<h1>偏りは統計的に妥当か？</h1>"
   ]
  },
  {
   "cell_type": "markdown",
   "metadata": {},
   "source": [
    "次に、この偏りが統計的に妥当かを評価していきます。loto6が本当に完全なランダムであれば、1～43のうち7つの数字を無作為に抽出するシミュレーションを、開催回数分行って計算した偏りの指標（平均値及び標準偏差）が、上記で算出した値とほぼ一致するはずですので、それを検証します。<br>\n",
    "なお、このような確率モデルを使った無作為なシミュレーションにより何らかの指標を評価することを「モンテカルロシミュレーション」と呼びます。"
   ]
  },
  {
   "cell_type": "markdown",
   "metadata": {},
   "source": [
    "<h2>モンテカルロシミュレーションの方法</h2>"
   ]
  },
  {
   "cell_type": "markdown",
   "metadata": {},
   "source": [
    "本ケースにおいては1～43までの配列から7つの数字を無作為に選択することに相当します。"
   ]
  },
  {
   "cell_type": "code",
   "execution_count": 12,
   "metadata": {
    "collapsed": false
   },
   "outputs": [
    {
     "name": "stdout",
     "output_type": "stream",
     "text": [
      "[ 5 11 26 28 29 31 37]\n"
     ]
    }
   ],
   "source": [
    "#numpyを使ってモンテカルロシミュレーション\n",
    "import numpy as np\n",
    "\n",
    "#プログラムに再現性を持たせるため乱数のシードを設定\n",
    "np.random.seed(0)\n",
    "\n",
    "#1～43の数字から重複なしで7つの数字を選択\n",
    "data = np.random.choice(range(1, 44), replace=False, size=7)\n",
    "data.sort()\n",
    "\n",
    "#結果確認\n",
    "print(data)"
   ]
  },
  {
   "cell_type": "markdown",
   "metadata": {},
   "source": [
    "<h2>モンテカルロシミュレーション結果との比較</h2>"
   ]
  },
  {
   "cell_type": "markdown",
   "metadata": {},
   "source": [
    "これを所定の回数繰り返して仮想的なloto6の結果を作りましょう。"
   ]
  },
  {
   "cell_type": "code",
   "execution_count": 13,
   "metadata": {
    "collapsed": false
   },
   "outputs": [
    {
     "data": {
      "text/html": [
       "<div>\n",
       "<table border=\"1\" class=\"dataframe\">\n",
       "  <thead>\n",
       "    <tr style=\"text-align: right;\">\n",
       "      <th></th>\n",
       "      <th>本数字1</th>\n",
       "      <th>本数字2</th>\n",
       "      <th>本数字3</th>\n",
       "      <th>本数字4</th>\n",
       "      <th>本数字5</th>\n",
       "      <th>本数字6</th>\n",
       "      <th>ボーナス数字</th>\n",
       "    </tr>\n",
       "  </thead>\n",
       "  <tbody>\n",
       "    <tr>\n",
       "      <th>0</th>\n",
       "      <td>5</td>\n",
       "      <td>11</td>\n",
       "      <td>26</td>\n",
       "      <td>28</td>\n",
       "      <td>29</td>\n",
       "      <td>31</td>\n",
       "      <td>37</td>\n",
       "    </tr>\n",
       "    <tr>\n",
       "      <th>1</th>\n",
       "      <td>13</td>\n",
       "      <td>14</td>\n",
       "      <td>17</td>\n",
       "      <td>22</td>\n",
       "      <td>23</td>\n",
       "      <td>28</td>\n",
       "      <td>31</td>\n",
       "    </tr>\n",
       "    <tr>\n",
       "      <th>2</th>\n",
       "      <td>2</td>\n",
       "      <td>9</td>\n",
       "      <td>20</td>\n",
       "      <td>27</td>\n",
       "      <td>31</td>\n",
       "      <td>38</td>\n",
       "      <td>40</td>\n",
       "    </tr>\n",
       "    <tr>\n",
       "      <th>3</th>\n",
       "      <td>6</td>\n",
       "      <td>8</td>\n",
       "      <td>10</td>\n",
       "      <td>19</td>\n",
       "      <td>29</td>\n",
       "      <td>30</td>\n",
       "      <td>39</td>\n",
       "    </tr>\n",
       "    <tr>\n",
       "      <th>4</th>\n",
       "      <td>1</td>\n",
       "      <td>6</td>\n",
       "      <td>11</td>\n",
       "      <td>13</td>\n",
       "      <td>15</td>\n",
       "      <td>32</td>\n",
       "      <td>35</td>\n",
       "    </tr>\n",
       "  </tbody>\n",
       "</table>\n",
       "</div>"
      ],
      "text/plain": [
       "   本数字1  本数字2  本数字3  本数字4  本数字5  本数字6  ボーナス数字\n",
       "0     5    11    26    28    29    31      37\n",
       "1    13    14    17    22    23    28      31\n",
       "2     2     9    20    27    31    38      40\n",
       "3     6     8    10    19    29    30      39\n",
       "4     1     6    11    13    15    32      35"
      ]
     },
     "execution_count": 13,
     "metadata": {},
     "output_type": "execute_result"
    }
   ],
   "source": [
    "datas = []\n",
    "numbers = list(range(1, 44))\n",
    "np.random.seed(0)\n",
    "\n",
    "for i in df.index:\n",
    "    data = np.random.choice(numbers, replace=False, size=7)\n",
    "    data.sort()\n",
    "    datas.append(data)\n",
    "    \n",
    "vloto6 = pd.DataFrame(datas, index=df.index, columns=df.columns)\n",
    "\n",
    "#結果確認\n",
    "vloto6.head()"
   ]
  },
  {
   "cell_type": "markdown",
   "metadata": {},
   "source": [
    "得られた結果を先ほど作ったgetdistInfoを用いて可視化してみます。"
   ]
  },
  {
   "cell_type": "code",
   "execution_count": 14,
   "metadata": {
    "collapsed": true
   },
   "outputs": [],
   "source": [
    "vresult = []\n",
    "for i in df.index:\n",
    "    vresult.append(getdistInfo(vloto6, i))\n",
    "    \n",
    "vresult = pd.DataFrame(vresult, columns=['mean', 'std'], index=tdf['抽せん回'])\n",
    "vresult.index.name = 'times'"
   ]
  },
  {
   "cell_type": "markdown",
   "metadata": {},
   "source": [
    "抽選回数で規格化した結果で見てみましょう。"
   ]
  },
  {
   "cell_type": "code",
   "execution_count": 15,
   "metadata": {
    "collapsed": false
   },
   "outputs": [
    {
     "data": {
      "text/plain": [
       "array([<matplotlib.axes._subplots.AxesSubplot object at 0x000001A0A25E4438>,\n",
       "       <matplotlib.axes._subplots.AxesSubplot object at 0x000001A0A24216A0>], dtype=object)"
      ]
     },
     "execution_count": 15,
     "metadata": {},
     "output_type": "execute_result"
    },
    {
     "data": {
      "image/png": "[encoded data removed]",
      "text/plain": [
       "<matplotlib.figure.Figure at 0x1a0a26279b0>"
      ]
     },
     "metadata": {},
     "output_type": "display_data"
    }
   ],
   "source": [
    "(vresult.T / vresult.index.values).T.plot(subplots=True, figsize=(6, 8))"
   ]
  },
  {
   "cell_type": "markdown",
   "metadata": {},
   "source": [
    "meanがほぼ同じことは分かりますが、これだけだとstdは良く分からないので、stdに絞って重ねて書いてみます。"
   ]
  },
  {
   "cell_type": "code",
   "execution_count": 16,
   "metadata": {
    "collapsed": false
   },
   "outputs": [
    {
     "data": {
      "text/plain": [
       "<matplotlib.axes._subplots.AxesSubplot at 0x1a0a3711630>"
      ]
     },
     "execution_count": 16,
     "metadata": {},
     "output_type": "execute_result"
    },
    {
     "data": {
      "image/png": "[encoded data removed]",
      "text/plain": [
       "<matplotlib.figure.Figure at 0x1a0a24aaba8>"
      ]
     },
     "metadata": {},
     "output_type": "display_data"
    }
   ],
   "source": [
    "#シミュレーションを青、実際を赤で描画\n",
    "ax = (vresult.T / vresult.index.values).T['std'].plot(c='b')\n",
    "(result.T / result.index.values).T['std'].plot(c='r', ax=ax)"
   ]
  },
  {
   "cell_type": "markdown",
   "metadata": {},
   "source": [
    "実績（赤）とシミュレーション（青）の結果はほぼ等しく、やはりloto6はランダムと言えそうです。"
   ]
  },
  {
   "cell_type": "markdown",
   "metadata": {},
   "source": [
    "<h2>100回のモンテカルロシミュレーション結果との比較</h2>"
   ]
  },
  {
   "cell_type": "markdown",
   "metadata": {},
   "source": [
    "せっかくなのでモンテカルロシミュレーションを繰り返して、より妥当性を確認してみましょう。まずモンテカルロシミュレーションから統計値を出す部分をファンクション化します。"
   ]
  },
  {
   "cell_type": "code",
   "execution_count": 17,
   "metadata": {
    "collapsed": true
   },
   "outputs": [],
   "source": [
    "#loto6のデータフレームを受け取り、標準偏差の時系列変化を返すファンクション\n",
    "#dfがloto6の実際の結果の抽出番号のデータフレーム、tdfはそれ以外も含めたもの。jは乱数のシードを表す。\n",
    "def loto6simulation(df, tdf, j):\n",
    "    \n",
    "    #仮想的なloto6の結果を作成\n",
    "    datas = []\n",
    "    numbers = list(range(1, 44))\n",
    "    np.random.seed(j)\n",
    "\n",
    "    for i in df.index:\n",
    "        data = np.random.choice(numbers, replace=False, size=7)\n",
    "        data.sort()\n",
    "        datas.append(data)\n",
    "\n",
    "    vloto6 = pd.DataFrame(datas, index=df.index, columns=df.columns)\n",
    "    \n",
    "    #時系列的な標準偏差の変化を算出\n",
    "    vresult = []\n",
    "    for i in df.index:\n",
    "        vresult.append(getdistInfo(vloto6, i))\n",
    "\n",
    "    vresult = pd.DataFrame(vresult, columns=['mean', 'std'], index=tdf['抽せん回'])\n",
    "    vresult.index.name = 'times'\n",
    "    \n",
    "    return (vresult.T / vresult.index.values).T['std']"
   ]
  },
  {
   "cell_type": "markdown",
   "metadata": {},
   "source": [
    "jを1万回繰り返せばその分の結果が返ってきます。ただし、繰り返し回数が多いので、並列計算を使ってみましょう。"
   ]
  },
  {
   "cell_type": "code",
   "execution_count": 18,
   "metadata": {
    "collapsed": false
   },
   "outputs": [
    {
     "name": "stderr",
     "output_type": "stream",
     "text": [
      "[Parallel(n_jobs=1)]: Done 100 out of 100 | elapsed:  6.6min finished\n"
     ]
    }
   ],
   "source": [
    "#ライブラリのインポート\n",
    "from joblib import Parallel, delayed\n",
    "\n",
    "#これがないとjoblibが止まるので入れておく\n",
    "if __name__ == \"__main__\":\n",
    "    #n_jobsがコア数\n",
    "    vresults = Parallel(n_jobs=1, verbose=1)([delayed(loto6simulation)(df, tdf, j) for j in range(100)])\n",
    "    \n",
    "    #concatを使って結合\n",
    "    vresults = pd.concat(vresults, axis=1)\n",
    "    \n",
    "    #結果確認\n",
    "    vresults.head()"
   ]
  },
  {
   "cell_type": "markdown",
   "metadata": {},
   "source": [
    "先ほどと同様の手順で可視化してみましょう。"
   ]
  },
  {
   "cell_type": "code",
   "execution_count": 19,
   "metadata": {
    "collapsed": false
   },
   "outputs": [
    {
     "data": {
      "text/plain": [
       "<matplotlib.axes._subplots.AxesSubplot at 0x1a0a23b5be0>"
      ]
     },
     "execution_count": 19,
     "metadata": {},
     "output_type": "execute_result"
    },
    {
     "data": {
      "image/png": "[encoded data removed]",
      "text/plain": [
       "<matplotlib.figure.Figure at 0x1a0a39b12b0>"
      ]
     },
     "metadata": {},
     "output_type": "display_data"
    }
   ],
   "source": [
    "ax = vresults.plot(legend=False, c='b', figsize=(9, 6))\n",
    "(result.T / result.index.values).T['std'].plot(c='r', ax=ax)"
   ]
  },
  {
   "cell_type": "markdown",
   "metadata": {},
   "source": [
    "赤い線（実際）は青い線（シミュレーション）のなかにすっぽり埋まっていますね。やはり完全にランダムと言ってよさそうです。"
   ]
  },
  {
   "cell_type": "markdown",
   "metadata": {},
   "source": [
    "<h1>まとめ</h1>"
   ]
  },
  {
   "cell_type": "markdown",
   "metadata": {},
   "source": [
    "データの確認とモンテカルロシミュレーションを用いた検証により以下のことが分かりました。ロト6は、偏りがありそうではありますが、基本ランダムと言えそうです。\n",
    "1. 今までに出た目は偏りがあるか？<br>　\n",
    "⇒よく出ている数字（6や27）は、220回程度出ているのに対し、あまり出ていない数字（1や7や9）は170回程度であり、偏りがありそうに見える\n",
    "2. 偏りは統計的に妥当か？<br>\n",
    "⇒分布のばらつきはランダムを仮定した場合のシミュレーション結果とほぼ一致しており、統計的に妥当な偏り＝ランダムで予測不可"
   ]
  },
  {
   "cell_type": "markdown",
   "metadata": {},
   "source": [
    "その３では、当たった数字と賞金の関係を分析し、いつどんな数字を選択すると期待値が上がるのか、ということを分析しようと思います。"
   ]
  }
 ],
 "metadata": {
  "kernelspec": {
   "display_name": "Python 3",
   "language": "python",
   "name": "python3"
  },
  "language_info": {
   "codemirror_mode": {
    "name": "ipython",
    "version": 3
   },
   "file_extension": ".py",
   "mimetype": "text/x-python",
   "name": "python",
   "nbconvert_exporter": "python",
   "pygments_lexer": "ipython3",
   "version": "3.6.0"
  }
 },
 "nbformat": 4,
 "nbformat_minor": 2
}
